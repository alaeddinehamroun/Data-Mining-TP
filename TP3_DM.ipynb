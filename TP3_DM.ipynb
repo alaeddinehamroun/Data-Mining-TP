{
  "nbformat": 4,
  "nbformat_minor": 0,
  "metadata": {
    "colab": {
      "provenance": [],
      "include_colab_link": true
    },
    "kernelspec": {
      "name": "python3",
      "display_name": "Python 3"
    },
    "language_info": {
      "name": "python"
    }
  },
  "cells": [
    {
      "cell_type": "markdown",
      "metadata": {
        "id": "view-in-github",
        "colab_type": "text"
      },
      "source": [
        "<a href=\"https://colab.research.google.com/github/alaeddinehamroun/Data-Mining-TP/blob/main/TP3_DM.ipynb\" target=\"_parent\"><img src=\"https://colab.research.google.com/assets/colab-badge.svg\" alt=\"Open In Colab\"/></a>"
      ]
    },
    {
      "cell_type": "code",
      "execution_count": null,
      "metadata": {
        "id": "qSkG3EeyaJ92",
        "colab": {
          "base_uri": "https://localhost:8080/"
        },
        "outputId": "534521fd-0454-42dc-b187-7e2fb0d2db84"
      },
      "outputs": [
        {
          "output_type": "stream",
          "name": "stdout",
          "text": [
            "Looking in indexes: https://pypi.org/simple, https://us-python.pkg.dev/colab-wheels/public/simple/\n",
            "Requirement already satisfied: opencv-python in /usr/local/lib/python3.8/dist-packages (4.6.0.66)\n",
            "Requirement already satisfied: numpy>=1.14.5 in /usr/local/lib/python3.8/dist-packages (from opencv-python) (1.21.6)\n"
          ]
        }
      ],
      "source": [
        "!pip install opencv-python"
      ]
    },
    {
      "cell_type": "code",
      "source": [
        "from sklearn import datasets\n",
        "irisData = datasets.load_iris()\n",
        "print (irisData.data)\n",
        "print (irisData.target)"
      ],
      "metadata": {
        "id": "QXWDhGFubnLG",
        "colab": {
          "base_uri": "https://localhost:8080/"
        },
        "outputId": "bd71829d-58a1-4acf-eae5-957f2891d037"
      },
      "execution_count": null,
      "outputs": [
        {
          "output_type": "stream",
          "name": "stdout",
          "text": [
            "[[5.1 3.5 1.4 0.2]\n",
            " [4.9 3.  1.4 0.2]\n",
            " [4.7 3.2 1.3 0.2]\n",
            " [4.6 3.1 1.5 0.2]\n",
            " [5.  3.6 1.4 0.2]\n",
            " [5.4 3.9 1.7 0.4]\n",
            " [4.6 3.4 1.4 0.3]\n",
            " [5.  3.4 1.5 0.2]\n",
            " [4.4 2.9 1.4 0.2]\n",
            " [4.9 3.1 1.5 0.1]\n",
            " [5.4 3.7 1.5 0.2]\n",
            " [4.8 3.4 1.6 0.2]\n",
            " [4.8 3.  1.4 0.1]\n",
            " [4.3 3.  1.1 0.1]\n",
            " [5.8 4.  1.2 0.2]\n",
            " [5.7 4.4 1.5 0.4]\n",
            " [5.4 3.9 1.3 0.4]\n",
            " [5.1 3.5 1.4 0.3]\n",
            " [5.7 3.8 1.7 0.3]\n",
            " [5.1 3.8 1.5 0.3]\n",
            " [5.4 3.4 1.7 0.2]\n",
            " [5.1 3.7 1.5 0.4]\n",
            " [4.6 3.6 1.  0.2]\n",
            " [5.1 3.3 1.7 0.5]\n",
            " [4.8 3.4 1.9 0.2]\n",
            " [5.  3.  1.6 0.2]\n",
            " [5.  3.4 1.6 0.4]\n",
            " [5.2 3.5 1.5 0.2]\n",
            " [5.2 3.4 1.4 0.2]\n",
            " [4.7 3.2 1.6 0.2]\n",
            " [4.8 3.1 1.6 0.2]\n",
            " [5.4 3.4 1.5 0.4]\n",
            " [5.2 4.1 1.5 0.1]\n",
            " [5.5 4.2 1.4 0.2]\n",
            " [4.9 3.1 1.5 0.2]\n",
            " [5.  3.2 1.2 0.2]\n",
            " [5.5 3.5 1.3 0.2]\n",
            " [4.9 3.6 1.4 0.1]\n",
            " [4.4 3.  1.3 0.2]\n",
            " [5.1 3.4 1.5 0.2]\n",
            " [5.  3.5 1.3 0.3]\n",
            " [4.5 2.3 1.3 0.3]\n",
            " [4.4 3.2 1.3 0.2]\n",
            " [5.  3.5 1.6 0.6]\n",
            " [5.1 3.8 1.9 0.4]\n",
            " [4.8 3.  1.4 0.3]\n",
            " [5.1 3.8 1.6 0.2]\n",
            " [4.6 3.2 1.4 0.2]\n",
            " [5.3 3.7 1.5 0.2]\n",
            " [5.  3.3 1.4 0.2]\n",
            " [7.  3.2 4.7 1.4]\n",
            " [6.4 3.2 4.5 1.5]\n",
            " [6.9 3.1 4.9 1.5]\n",
            " [5.5 2.3 4.  1.3]\n",
            " [6.5 2.8 4.6 1.5]\n",
            " [5.7 2.8 4.5 1.3]\n",
            " [6.3 3.3 4.7 1.6]\n",
            " [4.9 2.4 3.3 1. ]\n",
            " [6.6 2.9 4.6 1.3]\n",
            " [5.2 2.7 3.9 1.4]\n",
            " [5.  2.  3.5 1. ]\n",
            " [5.9 3.  4.2 1.5]\n",
            " [6.  2.2 4.  1. ]\n",
            " [6.1 2.9 4.7 1.4]\n",
            " [5.6 2.9 3.6 1.3]\n",
            " [6.7 3.1 4.4 1.4]\n",
            " [5.6 3.  4.5 1.5]\n",
            " [5.8 2.7 4.1 1. ]\n",
            " [6.2 2.2 4.5 1.5]\n",
            " [5.6 2.5 3.9 1.1]\n",
            " [5.9 3.2 4.8 1.8]\n",
            " [6.1 2.8 4.  1.3]\n",
            " [6.3 2.5 4.9 1.5]\n",
            " [6.1 2.8 4.7 1.2]\n",
            " [6.4 2.9 4.3 1.3]\n",
            " [6.6 3.  4.4 1.4]\n",
            " [6.8 2.8 4.8 1.4]\n",
            " [6.7 3.  5.  1.7]\n",
            " [6.  2.9 4.5 1.5]\n",
            " [5.7 2.6 3.5 1. ]\n",
            " [5.5 2.4 3.8 1.1]\n",
            " [5.5 2.4 3.7 1. ]\n",
            " [5.8 2.7 3.9 1.2]\n",
            " [6.  2.7 5.1 1.6]\n",
            " [5.4 3.  4.5 1.5]\n",
            " [6.  3.4 4.5 1.6]\n",
            " [6.7 3.1 4.7 1.5]\n",
            " [6.3 2.3 4.4 1.3]\n",
            " [5.6 3.  4.1 1.3]\n",
            " [5.5 2.5 4.  1.3]\n",
            " [5.5 2.6 4.4 1.2]\n",
            " [6.1 3.  4.6 1.4]\n",
            " [5.8 2.6 4.  1.2]\n",
            " [5.  2.3 3.3 1. ]\n",
            " [5.6 2.7 4.2 1.3]\n",
            " [5.7 3.  4.2 1.2]\n",
            " [5.7 2.9 4.2 1.3]\n",
            " [6.2 2.9 4.3 1.3]\n",
            " [5.1 2.5 3.  1.1]\n",
            " [5.7 2.8 4.1 1.3]\n",
            " [6.3 3.3 6.  2.5]\n",
            " [5.8 2.7 5.1 1.9]\n",
            " [7.1 3.  5.9 2.1]\n",
            " [6.3 2.9 5.6 1.8]\n",
            " [6.5 3.  5.8 2.2]\n",
            " [7.6 3.  6.6 2.1]\n",
            " [4.9 2.5 4.5 1.7]\n",
            " [7.3 2.9 6.3 1.8]\n",
            " [6.7 2.5 5.8 1.8]\n",
            " [7.2 3.6 6.1 2.5]\n",
            " [6.5 3.2 5.1 2. ]\n",
            " [6.4 2.7 5.3 1.9]\n",
            " [6.8 3.  5.5 2.1]\n",
            " [5.7 2.5 5.  2. ]\n",
            " [5.8 2.8 5.1 2.4]\n",
            " [6.4 3.2 5.3 2.3]\n",
            " [6.5 3.  5.5 1.8]\n",
            " [7.7 3.8 6.7 2.2]\n",
            " [7.7 2.6 6.9 2.3]\n",
            " [6.  2.2 5.  1.5]\n",
            " [6.9 3.2 5.7 2.3]\n",
            " [5.6 2.8 4.9 2. ]\n",
            " [7.7 2.8 6.7 2. ]\n",
            " [6.3 2.7 4.9 1.8]\n",
            " [6.7 3.3 5.7 2.1]\n",
            " [7.2 3.2 6.  1.8]\n",
            " [6.2 2.8 4.8 1.8]\n",
            " [6.1 3.  4.9 1.8]\n",
            " [6.4 2.8 5.6 2.1]\n",
            " [7.2 3.  5.8 1.6]\n",
            " [7.4 2.8 6.1 1.9]\n",
            " [7.9 3.8 6.4 2. ]\n",
            " [6.4 2.8 5.6 2.2]\n",
            " [6.3 2.8 5.1 1.5]\n",
            " [6.1 2.6 5.6 1.4]\n",
            " [7.7 3.  6.1 2.3]\n",
            " [6.3 3.4 5.6 2.4]\n",
            " [6.4 3.1 5.5 1.8]\n",
            " [6.  3.  4.8 1.8]\n",
            " [6.9 3.1 5.4 2.1]\n",
            " [6.7 3.1 5.6 2.4]\n",
            " [6.9 3.1 5.1 2.3]\n",
            " [5.8 2.7 5.1 1.9]\n",
            " [6.8 3.2 5.9 2.3]\n",
            " [6.7 3.3 5.7 2.5]\n",
            " [6.7 3.  5.2 2.3]\n",
            " [6.3 2.5 5.  1.9]\n",
            " [6.5 3.  5.2 2. ]\n",
            " [6.2 3.4 5.4 2.3]\n",
            " [5.9 3.  5.1 1.8]]\n",
            "[0 0 0 0 0 0 0 0 0 0 0 0 0 0 0 0 0 0 0 0 0 0 0 0 0 0 0 0 0 0 0 0 0 0 0 0 0\n",
            " 0 0 0 0 0 0 0 0 0 0 0 0 0 1 1 1 1 1 1 1 1 1 1 1 1 1 1 1 1 1 1 1 1 1 1 1 1\n",
            " 1 1 1 1 1 1 1 1 1 1 1 1 1 1 1 1 1 1 1 1 1 1 1 1 1 1 2 2 2 2 2 2 2 2 2 2 2\n",
            " 2 2 2 2 2 2 2 2 2 2 2 2 2 2 2 2 2 2 2 2 2 2 2 2 2 2 2 2 2 2 2 2 2 2 2 2 2\n",
            " 2 2]\n"
          ]
        }
      ]
    },
    {
      "cell_type": "code",
      "source": [
        "import matplotlib\n",
        "from itertools import cycle\n",
        "import pylab as pl\n",
        "def plot_2D(data, target, target_names,feature1,feature2):\n",
        "  colors = cycle('rgbcmykw') # cycle de couleurs\n",
        "  target_ids = range(len(target_names))\n",
        "  pl.figure()\n",
        "  for i, c, label in zip(target_ids, colors, target_names):\n",
        "    pl.scatter(data[target == i, feature1], data[target == i, feature2], c=c, label=label)\n",
        "    pl.legend()\n",
        "  pl.show()"
      ],
      "metadata": {
        "id": "MTd8Os5Jb9EK"
      },
      "execution_count": null,
      "outputs": []
    },
    {
      "cell_type": "code",
      "source": [
        "for f1 in range(4):\n",
        "  for f2 in range(4):\n",
        "    if not f1==f2: \n",
        "      print(\"Distrubition selon les 2 features \",irisData.feature_names[f1],\" and \",irisData.feature_names[f2])\n",
        "      plot_2D(irisData.data,irisData.target,irisData.target_names,f1,f2)\n",
        "\n",
        "# la meilleur separation est par sepale width/sepale length   et petal width/petal length"
      ],
      "metadata": {
        "id": "ijLowK_gcWPp",
        "colab": {
          "base_uri": "https://localhost:8080/",
          "height": 1000
        },
        "outputId": "1e917bb1-8d53-40e4-a873-3536bfc4c856"
      },
      "execution_count": null,
      "outputs": [
        {
          "output_type": "stream",
          "name": "stdout",
          "text": [
            "Distrubition selon les 2 features  sepal length (cm)  and  sepal width (cm)\n"
          ]
        },
        {
          "output_type": "display_data",
          "data": {
            "text/plain": [
              "<Figure size 432x288 with 1 Axes>"
            ],
            "image/png": "[encoded data removed]"
          },
          "metadata": {
            "needs_background": "light"
          }
        },
        {
          "output_type": "stream",
          "name": "stdout",
          "text": [
            "Distrubition selon les 2 features  sepal length (cm)  and  petal length (cm)\n"
          ]
        },
        {
          "output_type": "display_data",
          "data": {
            "text/plain": [
              "<Figure size 432x288 with 1 Axes>"
            ],
            "image/png": "[encoded data removed]"
          },
          "metadata": {
            "needs_background": "light"
          }
        },
        {
          "output_type": "stream",
          "name": "stdout",
          "text": [
            "Distrubition selon les 2 features  sepal length (cm)  and  petal width (cm)\n"
          ]
        },
        {
          "output_type": "display_data",
          "data": {
            "text/plain": [
              "<Figure size 432x288 with 1 Axes>"
            ],
            "image/png": "[encoded data removed]"
          },
          "metadata": {
            "needs_background": "light"
          }
        },
        {
          "output_type": "stream",
          "name": "stdout",
          "text": [
            "Distrubition selon les 2 features  sepal width (cm)  and  sepal length (cm)\n"
          ]
        },
        {
          "output_type": "display_data",
          "data": {
            "text/plain": [
              "<Figure size 432x288 with 1 Axes>"
            ],
            "image/png": "[encoded data removed]"
          },
          "metadata": {
            "needs_background": "light"
          }
        },
        {
          "output_type": "stream",
          "name": "stdout",
          "text": [
            "Distrubition selon les 2 features  sepal width (cm)  and  petal length (cm)\n"
          ]
        },
        {
          "output_type": "display_data",
          "data": {
            "text/plain": [
              "<Figure size 432x288 with 1 Axes>"
            ],
            "image/png": "[encoded data removed]"
          },
          "metadata": {
            "needs_background": "light"
          }
        },
        {
          "output_type": "stream",
          "name": "stdout",
          "text": [
            "Distrubition selon les 2 features  sepal width (cm)  and  petal width (cm)\n"
          ]
        },
        {
          "output_type": "display_data",
          "data": {
            "text/plain": [
              "<Figure size 432x288 with 1 Axes>"
            ],
            "image/png": "[encoded data removed]"
          },
          "metadata": {
            "needs_background": "light"
          }
        },
        {
          "output_type": "stream",
          "name": "stdout",
          "text": [
            "Distrubition selon les 2 features  petal length (cm)  and  sepal length (cm)\n"
          ]
        },
        {
          "output_type": "display_data",
          "data": {
            "text/plain": [
              "<Figure size 432x288 with 1 Axes>"
            ],
            "image/png": "[encoded data removed]"
          },
          "metadata": {
            "needs_background": "light"
          }
        },
        {
          "output_type": "stream",
          "name": "stdout",
          "text": [
            "Distrubition selon les 2 features  petal length (cm)  and  sepal width (cm)\n"
          ]
        },
        {
          "output_type": "display_data",
          "data": {
            "text/plain": [
              "<Figure size 432x288 with 1 Axes>"
            ],
            "image/png": "[encoded data removed]"
          },
          "metadata": {
            "needs_background": "light"
          }
        },
        {
          "output_type": "stream",
          "name": "stdout",
          "text": [
            "Distrubition selon les 2 features  petal length (cm)  and  petal width (cm)\n"
          ]
        },
        {
          "output_type": "display_data",
          "data": {
            "text/plain": [
              "<Figure size 432x288 with 1 Axes>"
            ],
            "image/png": "[encoded data removed]"
          },
          "metadata": {
            "needs_background": "light"
          }
        },
        {
          "output_type": "stream",
          "name": "stdout",
          "text": [
            "Distrubition selon les 2 features  petal width (cm)  and  sepal length (cm)\n"
          ]
        },
        {
          "output_type": "display_data",
          "data": {
            "text/plain": [
              "<Figure size 432x288 with 1 Axes>"
            ],
            "image/png": "[encoded data removed]"
          },
          "metadata": {
            "needs_background": "light"
          }
        },
        {
          "output_type": "stream",
          "name": "stdout",
          "text": [
            "Distrubition selon les 2 features  petal width (cm)  and  sepal width (cm)\n"
          ]
        },
        {
          "output_type": "display_data",
          "data": {
            "text/plain": [
              "<Figure size 432x288 with 1 Axes>"
            ],
            "image/png": "[encoded data removed]"
          },
          "metadata": {
            "needs_background": "light"
          }
        },
        {
          "output_type": "stream",
          "name": "stdout",
          "text": [
            "Distrubition selon les 2 features  petal width (cm)  and  petal length (cm)\n"
          ]
        },
        {
          "output_type": "display_data",
          "data": {
            "text/plain": [
              "<Figure size 432x288 with 1 Axes>"
            ],
            "image/png": "[encoded data removed]"
          },
          "metadata": {
            "needs_background": "light"
          }
        }
      ]
    },
    {
      "cell_type": "code",
      "source": [
        "# La droite d'équation x=2.5 permet de séparer la classe Setosa\n",
        "import matplotlib\n",
        "from itertools import cycle\n",
        "import pylab as pl\n",
        "colors = cycle('rgbcmykw') # cycle de couleurs\n",
        "target_ids = range(len(irisData.target_names))\n",
        "pl.figure()\n",
        "for i, c, label in zip(target_ids, colors, irisData.target_names):\n",
        "  pl.scatter(irisData.data[irisData.target == i, 2], irisData.data[irisData.target == i, 3], c=c, label=label)\n",
        "  pl.legend()\n",
        "  pl.plot([2.5, 2.5],[0, 3], 'r--', lw=2)\n",
        "pl.show()\n"
      ],
      "metadata": {
        "id": "iuKIy9Xm-O53",
        "colab": {
          "base_uri": "https://localhost:8080/",
          "height": 265
        },
        "outputId": "1b3cc94f-d720-4267-fbc3-56b398e2d565"
      },
      "execution_count": null,
      "outputs": [
        {
          "output_type": "display_data",
          "data": {
            "text/plain": [
              "<Figure size 432x288 with 1 Axes>"
            ],
            "image/png": "[encoded data removed]"
          },
          "metadata": {
            "needs_background": "light"
          }
        }
      ]
    },
    {
      "cell_type": "code",
      "source": [
        "from collections import Counter\n",
        "occurances=Counter(irisData.target)\n",
        "for i in range(len(irisData.target_names)):\n",
        "  print(irisData.target_names[i],\" : \",occurances[i])\n",
        "\n"
      ],
      "metadata": {
        "colab": {
          "base_uri": "https://localhost:8080/"
        },
        "id": "-eeQrCB6wkhP",
        "outputId": "dbf2d51a-7e3d-4b2d-c400-6caa949a92bb"
      },
      "execution_count": null,
      "outputs": [
        {
          "output_type": "stream",
          "name": "stdout",
          "text": [
            "setosa  :  50\n",
            "versicolor  :  50\n",
            "virginica  :  50\n"
          ]
        }
      ]
    },
    {
      "cell_type": "code",
      "source": [
        "# chaque instance possede 4 features : sepale length, sepale width , petal length, petal width.\n",
        "print(\"Les features sont : \")\n",
        "print(irisData.feature_names)\n",
        "#les classes sont :\n",
        "print(\"les classes sont :\")\n",
        "print(irisData.target_names)\n",
        "\n"
      ],
      "metadata": {
        "colab": {
          "base_uri": "https://localhost:8080/"
        },
        "id": "PX9A2Tzs2geh",
        "outputId": "5a08a889-0baa-4e53-e0c7-bfc393f3a252"
      },
      "execution_count": null,
      "outputs": [
        {
          "output_type": "stream",
          "name": "stdout",
          "text": [
            "Les features sont : \n",
            "['sepal length (cm)', 'sepal width (cm)', 'petal length (cm)', 'petal width (cm)']\n",
            "les classes sont :\n",
            "['setosa' 'versicolor' 'virginica']\n"
          ]
        }
      ]
    },
    {
      "cell_type": "code",
      "source": [
        "\n",
        "#plus d'infos\n",
        "print(\"Plus d'infos\")\n",
        "print(irisData)"
      ],
      "metadata": {
        "id": "XNuxS-t_3T-M",
        "colab": {
          "base_uri": "https://localhost:8080/"
        },
        "outputId": "1917fcba-d89d-4faa-cade-a78c676003af"
      },
      "execution_count": null,
      "outputs": [
        {
          "output_type": "stream",
          "name": "stdout",
          "text": [
            "Plus d'infos\n",
            "{'data': array([[5.1, 3.5, 1.4, 0.2],\n",
            "       [4.9, 3. , 1.4, 0.2],\n",
            "       [4.7, 3.2, 1.3, 0.2],\n",
            "       [4.6, 3.1, 1.5, 0.2],\n",
            "       [5. , 3.6, 1.4, 0.2],\n",
            "       [5.4, 3.9, 1.7, 0.4],\n",
            "       [4.6, 3.4, 1.4, 0.3],\n",
            "       [5. , 3.4, 1.5, 0.2],\n",
            "       [4.4, 2.9, 1.4, 0.2],\n",
            "       [4.9, 3.1, 1.5, 0.1],\n",
            "       [5.4, 3.7, 1.5, 0.2],\n",
            "       [4.8, 3.4, 1.6, 0.2],\n",
            "       [4.8, 3. , 1.4, 0.1],\n",
            "       [4.3, 3. , 1.1, 0.1],\n",
            "       [5.8, 4. , 1.2, 0.2],\n",
            "       [5.7, 4.4, 1.5, 0.4],\n",
            "       [5.4, 3.9, 1.3, 0.4],\n",
            "       [5.1, 3.5, 1.4, 0.3],\n",
            "       [5.7, 3.8, 1.7, 0.3],\n",
            "       [5.1, 3.8, 1.5, 0.3],\n",
            "       [5.4, 3.4, 1.7, 0.2],\n",
            "       [5.1, 3.7, 1.5, 0.4],\n",
            "       [4.6, 3.6, 1. , 0.2],\n",
            "       [5.1, 3.3, 1.7, 0.5],\n",
            "       [4.8, 3.4, 1.9, 0.2],\n",
            "       [5. , 3. , 1.6, 0.2],\n",
            "       [5. , 3.4, 1.6, 0.4],\n",
            "       [5.2, 3.5, 1.5, 0.2],\n",
            "       [5.2, 3.4, 1.4, 0.2],\n",
            "       [4.7, 3.2, 1.6, 0.2],\n",
            "       [4.8, 3.1, 1.6, 0.2],\n",
            "       [5.4, 3.4, 1.5, 0.4],\n",
            "       [5.2, 4.1, 1.5, 0.1],\n",
            "       [5.5, 4.2, 1.4, 0.2],\n",
            "       [4.9, 3.1, 1.5, 0.2],\n",
            "       [5. , 3.2, 1.2, 0.2],\n",
            "       [5.5, 3.5, 1.3, 0.2],\n",
            "       [4.9, 3.6, 1.4, 0.1],\n",
            "       [4.4, 3. , 1.3, 0.2],\n",
            "       [5.1, 3.4, 1.5, 0.2],\n",
            "       [5. , 3.5, 1.3, 0.3],\n",
            "       [4.5, 2.3, 1.3, 0.3],\n",
            "       [4.4, 3.2, 1.3, 0.2],\n",
            "       [5. , 3.5, 1.6, 0.6],\n",
            "       [5.1, 3.8, 1.9, 0.4],\n",
            "       [4.8, 3. , 1.4, 0.3],\n",
            "       [5.1, 3.8, 1.6, 0.2],\n",
            "       [4.6, 3.2, 1.4, 0.2],\n",
            "       [5.3, 3.7, 1.5, 0.2],\n",
            "       [5. , 3.3, 1.4, 0.2],\n",
            "       [7. , 3.2, 4.7, 1.4],\n",
            "       [6.4, 3.2, 4.5, 1.5],\n",
            "       [6.9, 3.1, 4.9, 1.5],\n",
            "       [5.5, 2.3, 4. , 1.3],\n",
            "       [6.5, 2.8, 4.6, 1.5],\n",
            "       [5.7, 2.8, 4.5, 1.3],\n",
            "       [6.3, 3.3, 4.7, 1.6],\n",
            "       [4.9, 2.4, 3.3, 1. ],\n",
            "       [6.6, 2.9, 4.6, 1.3],\n",
            "       [5.2, 2.7, 3.9, 1.4],\n",
            "       [5. , 2. , 3.5, 1. ],\n",
            "       [5.9, 3. , 4.2, 1.5],\n",
            "       [6. , 2.2, 4. , 1. ],\n",
            "       [6.1, 2.9, 4.7, 1.4],\n",
            "       [5.6, 2.9, 3.6, 1.3],\n",
            "       [6.7, 3.1, 4.4, 1.4],\n",
            "       [5.6, 3. , 4.5, 1.5],\n",
            "       [5.8, 2.7, 4.1, 1. ],\n",
            "       [6.2, 2.2, 4.5, 1.5],\n",
            "       [5.6, 2.5, 3.9, 1.1],\n",
            "       [5.9, 3.2, 4.8, 1.8],\n",
            "       [6.1, 2.8, 4. , 1.3],\n",
            "       [6.3, 2.5, 4.9, 1.5],\n",
            "       [6.1, 2.8, 4.7, 1.2],\n",
            "       [6.4, 2.9, 4.3, 1.3],\n",
            "       [6.6, 3. , 4.4, 1.4],\n",
            "       [6.8, 2.8, 4.8, 1.4],\n",
            "       [6.7, 3. , 5. , 1.7],\n",
            "       [6. , 2.9, 4.5, 1.5],\n",
            "       [5.7, 2.6, 3.5, 1. ],\n",
            "       [5.5, 2.4, 3.8, 1.1],\n",
            "       [5.5, 2.4, 3.7, 1. ],\n",
            "       [5.8, 2.7, 3.9, 1.2],\n",
            "       [6. , 2.7, 5.1, 1.6],\n",
            "       [5.4, 3. , 4.5, 1.5],\n",
            "       [6. , 3.4, 4.5, 1.6],\n",
            "       [6.7, 3.1, 4.7, 1.5],\n",
            "       [6.3, 2.3, 4.4, 1.3],\n",
            "       [5.6, 3. , 4.1, 1.3],\n",
            "       [5.5, 2.5, 4. , 1.3],\n",
            "       [5.5, 2.6, 4.4, 1.2],\n",
            "       [6.1, 3. , 4.6, 1.4],\n",
            "       [5.8, 2.6, 4. , 1.2],\n",
            "       [5. , 2.3, 3.3, 1. ],\n",
            "       [5.6, 2.7, 4.2, 1.3],\n",
            "       [5.7, 3. , 4.2, 1.2],\n",
            "       [5.7, 2.9, 4.2, 1.3],\n",
            "       [6.2, 2.9, 4.3, 1.3],\n",
            "       [5.1, 2.5, 3. , 1.1],\n",
            "       [5.7, 2.8, 4.1, 1.3],\n",
            "       [6.3, 3.3, 6. , 2.5],\n",
            "       [5.8, 2.7, 5.1, 1.9],\n",
            "       [7.1, 3. , 5.9, 2.1],\n",
            "       [6.3, 2.9, 5.6, 1.8],\n",
            "       [6.5, 3. , 5.8, 2.2],\n",
            "       [7.6, 3. , 6.6, 2.1],\n",
            "       [4.9, 2.5, 4.5, 1.7],\n",
            "       [7.3, 2.9, 6.3, 1.8],\n",
            "       [6.7, 2.5, 5.8, 1.8],\n",
            "       [7.2, 3.6, 6.1, 2.5],\n",
            "       [6.5, 3.2, 5.1, 2. ],\n",
            "       [6.4, 2.7, 5.3, 1.9],\n",
            "       [6.8, 3. , 5.5, 2.1],\n",
            "       [5.7, 2.5, 5. , 2. ],\n",
            "       [5.8, 2.8, 5.1, 2.4],\n",
            "       [6.4, 3.2, 5.3, 2.3],\n",
            "       [6.5, 3. , 5.5, 1.8],\n",
            "       [7.7, 3.8, 6.7, 2.2],\n",
            "       [7.7, 2.6, 6.9, 2.3],\n",
            "       [6. , 2.2, 5. , 1.5],\n",
            "       [6.9, 3.2, 5.7, 2.3],\n",
            "       [5.6, 2.8, 4.9, 2. ],\n",
            "       [7.7, 2.8, 6.7, 2. ],\n",
            "       [6.3, 2.7, 4.9, 1.8],\n",
            "       [6.7, 3.3, 5.7, 2.1],\n",
            "       [7.2, 3.2, 6. , 1.8],\n",
            "       [6.2, 2.8, 4.8, 1.8],\n",
            "       [6.1, 3. , 4.9, 1.8],\n",
            "       [6.4, 2.8, 5.6, 2.1],\n",
            "       [7.2, 3. , 5.8, 1.6],\n",
            "       [7.4, 2.8, 6.1, 1.9],\n",
            "       [7.9, 3.8, 6.4, 2. ],\n",
            "       [6.4, 2.8, 5.6, 2.2],\n",
            "       [6.3, 2.8, 5.1, 1.5],\n",
            "       [6.1, 2.6, 5.6, 1.4],\n",
            "       [7.7, 3. , 6.1, 2.3],\n",
            "       [6.3, 3.4, 5.6, 2.4],\n",
            "       [6.4, 3.1, 5.5, 1.8],\n",
            "       [6. , 3. , 4.8, 1.8],\n",
            "       [6.9, 3.1, 5.4, 2.1],\n",
            "       [6.7, 3.1, 5.6, 2.4],\n",
            "       [6.9, 3.1, 5.1, 2.3],\n",
            "       [5.8, 2.7, 5.1, 1.9],\n",
            "       [6.8, 3.2, 5.9, 2.3],\n",
            "       [6.7, 3.3, 5.7, 2.5],\n",
            "       [6.7, 3. , 5.2, 2.3],\n",
            "       [6.3, 2.5, 5. , 1.9],\n",
            "       [6.5, 3. , 5.2, 2. ],\n",
            "       [6.2, 3.4, 5.4, 2.3],\n",
            "       [5.9, 3. , 5.1, 1.8]]), 'target': array([0, 0, 0, 0, 0, 0, 0, 0, 0, 0, 0, 0, 0, 0, 0, 0, 0, 0, 0, 0, 0, 0,\n",
            "       0, 0, 0, 0, 0, 0, 0, 0, 0, 0, 0, 0, 0, 0, 0, 0, 0, 0, 0, 0, 0, 0,\n",
            "       0, 0, 0, 0, 0, 0, 1, 1, 1, 1, 1, 1, 1, 1, 1, 1, 1, 1, 1, 1, 1, 1,\n",
            "       1, 1, 1, 1, 1, 1, 1, 1, 1, 1, 1, 1, 1, 1, 1, 1, 1, 1, 1, 1, 1, 1,\n",
            "       1, 1, 1, 1, 1, 1, 1, 1, 1, 1, 1, 1, 2, 2, 2, 2, 2, 2, 2, 2, 2, 2,\n",
            "       2, 2, 2, 2, 2, 2, 2, 2, 2, 2, 2, 2, 2, 2, 2, 2, 2, 2, 2, 2, 2, 2,\n",
            "       2, 2, 2, 2, 2, 2, 2, 2, 2, 2, 2, 2, 2, 2, 2, 2, 2, 2]), 'frame': None, 'target_names': array(['setosa', 'versicolor', 'virginica'], dtype='<U10'), 'DESCR': '.. _iris_dataset:\\n\\nIris plants dataset\\n--------------------\\n\\n**Data Set Characteristics:**\\n\\n    :Number of Instances: 150 (50 in each of three classes)\\n    :Number of Attributes: 4 numeric, predictive attributes and the class\\n    :Attribute Information:\\n        - sepal length in cm\\n        - sepal width in cm\\n        - petal length in cm\\n        - petal width in cm\\n        - class:\\n                - Iris-Setosa\\n                - Iris-Versicolour\\n                - Iris-Virginica\\n                \\n    :Summary Statistics:\\n\\n    ============== ==== ==== ======= ===== ====================\\n                    Min  Max   Mean    SD   Class Correlation\\n    ============== ==== ==== ======= ===== ====================\\n    sepal length:   4.3  7.9   5.84   0.83    0.7826\\n    sepal width:    2.0  4.4   3.05   0.43   -0.4194\\n    petal length:   1.0  6.9   3.76   1.76    0.9490  (high!)\\n    petal width:    0.1  2.5   1.20   0.76    0.9565  (high!)\\n    ============== ==== ==== ======= ===== ====================\\n\\n    :Missing Attribute Values: None\\n    :Class Distribution: 33.3% for each of 3 classes.\\n    :Creator: R.A. Fisher\\n    :Donor: Michael Marshall (MARSHALL%PLU@io.arc.nasa.gov)\\n    :Date: July, 1988\\n\\nThe famous Iris database, first used by Sir R.A. Fisher. The dataset is taken\\nfrom Fisher\\'s paper. Note that it\\'s the same as in R, but not as in the UCI\\nMachine Learning Repository, which has two wrong data points.\\n\\nThis is perhaps the best known database to be found in the\\npattern recognition literature.  Fisher\\'s paper is a classic in the field and\\nis referenced frequently to this day.  (See Duda & Hart, for example.)  The\\ndata set contains 3 classes of 50 instances each, where each class refers to a\\ntype of iris plant.  One class is linearly separable from the other 2; the\\nlatter are NOT linearly separable from each other.\\n\\n.. topic:: References\\n\\n   - Fisher, R.A. \"The use of multiple measurements in taxonomic problems\"\\n     Annual Eugenics, 7, Part II, 179-188 (1936); also in \"Contributions to\\n     Mathematical Statistics\" (John Wiley, NY, 1950).\\n   - Duda, R.O., & Hart, P.E. (1973) Pattern Classification and Scene Analysis.\\n     (Q327.D83) John Wiley & Sons.  ISBN 0-471-22361-1.  See page 218.\\n   - Dasarathy, B.V. (1980) \"Nosing Around the Neighborhood: A New System\\n     Structure and Classification Rule for Recognition in Partially Exposed\\n     Environments\".  IEEE Transactions on Pattern Analysis and Machine\\n     Intelligence, Vol. PAMI-2, No. 1, 67-71.\\n   - Gates, G.W. (1972) \"The Reduced Nearest Neighbor Rule\".  IEEE Transactions\\n     on Information Theory, May 1972, 431-433.\\n   - See also: 1988 MLC Proceedings, 54-64.  Cheeseman et al\"s AUTOCLASS II\\n     conceptual clustering system finds 3 classes in the data.\\n   - Many, many more ...', 'feature_names': ['sepal length (cm)', 'sepal width (cm)', 'petal length (cm)', 'petal width (cm)'], 'filename': 'iris.csv', 'data_module': 'sklearn.datasets.data'}\n"
          ]
        }
      ]
    },
    {
      "cell_type": "code",
      "source": [
        "# les attributs et la classe du 32ème élément de l'échantillon\n",
        "print(\"les attributs et la classe du 32ème élément de l'échantillon\")\n",
        "for i in range(len(irisData.feature_names)):\n",
        "  print(irisData.feature_names[i],\" : \",irisData.data[32][i])\n",
        "print(\"Classe : \",irisData.target_names[irisData.target[32]])\n",
        "\n"
      ],
      "metadata": {
        "id": "rXmme9nDvANp",
        "colab": {
          "base_uri": "https://localhost:8080/"
        },
        "outputId": "4488c5f8-51a0-4166-8bbc-96a0077c341b"
      },
      "execution_count": null,
      "outputs": [
        {
          "output_type": "stream",
          "name": "stdout",
          "text": [
            "les attributs et la classe du 32ème élément de l'échantillon\n",
            "sepal length (cm)  :  5.2\n",
            "sepal width (cm)  :  4.1\n",
            "petal length (cm)  :  1.5\n",
            "petal width (cm)  :  0.1\n",
            "Classe :  setosa\n"
          ]
        }
      ]
    },
    {
      "cell_type": "code",
      "source": [
        "from sklearn import naive_bayes\n",
        "nb = naive_bayes.MultinomialNB(fit_prior=True)# un algo d'apprentissage\n",
        "irisData = datasets.load_iris()\n",
        "nb.fit(irisData.data[0:30], irisData.target[0:30])\n",
        "\n",
        "p31 = nb.predict(irisData.data[31].reshape(1, -1))\n",
        "print(p31,\"   \",irisData.target[31])\n",
        "plast = nb.predict(irisData.data[-1].reshape(1, -1))\n",
        "print(plast,\"   \",irisData.target[-1])\n",
        "p = nb.predict(irisData.data[:])\n",
        "print(p)\n",
        "print(irisData.target)"
      ],
      "metadata": {
        "colab": {
          "base_uri": "https://localhost:8080/"
        },
        "id": "riFGuxigL7Th",
        "outputId": "a963a3e8-37dd-4c7d-82d9-8ef9e743b437"
      },
      "execution_count": null,
      "outputs": [
        {
          "output_type": "stream",
          "name": "stdout",
          "text": [
            "[0]     0\n",
            "[0]     2\n",
            "[0 0 0 0 0 0 0 0 0 0 0 0 0 0 0 0 0 0 0 0 0 0 0 0 0 0 0 0 0 0 0 0 0 0 0 0 0\n",
            " 0 0 0 0 0 0 0 0 0 0 0 0 0 0 0 0 0 0 0 0 0 0 0 0 0 0 0 0 0 0 0 0 0 0 0 0 0\n",
            " 0 0 0 0 0 0 0 0 0 0 0 0 0 0 0 0 0 0 0 0 0 0 0 0 0 0 0 0 0 0 0 0 0 0 0 0 0\n",
            " 0 0 0 0 0 0 0 0 0 0 0 0 0 0 0 0 0 0 0 0 0 0 0 0 0 0 0 0 0 0 0 0 0 0 0 0 0\n",
            " 0 0]\n",
            "[0 0 0 0 0 0 0 0 0 0 0 0 0 0 0 0 0 0 0 0 0 0 0 0 0 0 0 0 0 0 0 0 0 0 0 0 0\n",
            " 0 0 0 0 0 0 0 0 0 0 0 0 0 1 1 1 1 1 1 1 1 1 1 1 1 1 1 1 1 1 1 1 1 1 1 1 1\n",
            " 1 1 1 1 1 1 1 1 1 1 1 1 1 1 1 1 1 1 1 1 1 1 1 1 1 1 2 2 2 2 2 2 2 2 2 2 2\n",
            " 2 2 2 2 2 2 2 2 2 2 2 2 2 2 2 2 2 2 2 2 2 2 2 2 2 2 2 2 2 2 2 2 2 2 2 2 2\n",
            " 2 2]\n"
          ]
        }
      ]
    },
    {
      "cell_type": "code",
      "source": [
        "from sklearn import naive_bayes\n",
        "nb = naive_bayes.MultinomialNB(fit_prior=True)\n",
        "nb.fit(irisData.data[:99], irisData.target[:99])\n",
        "nb.predict(irisData.data[100:149])"
      ],
      "metadata": {
        "colab": {
          "base_uri": "https://localhost:8080/"
        },
        "id": "dk-uCxYSPx0d",
        "outputId": "adf135e0-0e41-458f-f545-9c8bb11f2bea"
      },
      "execution_count": null,
      "outputs": [
        {
          "output_type": "execute_result",
          "data": {
            "text/plain": [
              "array([1, 1, 1, 1, 1, 1, 1, 1, 1, 1, 1, 1, 1, 1, 1, 1, 1, 1, 1, 1, 1, 1,\n",
              "       1, 1, 1, 1, 1, 1, 1, 1, 1, 1, 1, 1, 1, 1, 1, 1, 1, 1, 1, 1, 1, 1,\n",
              "       1, 1, 1, 1, 1])"
            ]
          },
          "metadata": {},
          "execution_count": 11
        }
      ]
    },
    {
      "cell_type": "code",
      "source": [
        "ea = 0\n",
        "Y=irisData.target\n",
        "nb.fit(irisData.data,irisData.target)\n",
        "P=nb.predict(irisData.data)\n",
        "for i in range(len(irisData.data)):\n",
        "  if (P[i] != Y[i]):\n",
        "    ea = ea+1\n",
        "print(ea)"
      ],
      "metadata": {
        "colab": {
          "base_uri": "https://localhost:8080/"
        },
        "id": "pdLEpPVwQMbi",
        "outputId": "d044f767-f1c1-420e-d438-c87605c3483f"
      },
      "execution_count": null,
      "outputs": [
        {
          "output_type": "stream",
          "name": "stdout",
          "text": [
            "7\n"
          ]
        }
      ]
    },
    {
      "cell_type": "code",
      "source": [
        "import numpy as np\n",
        "print(\"Le nombre des case non nulles : \")\n",
        "print(np.count_nonzero(P-Y))\n",
        "print(\"Erreur d'apprentissage : \")\n",
        "print(np.count_nonzero(P-Y)/len(P-Y))\n",
        "print(\"Accuracy : \")\n",
        "print(1-np.count_nonzero(P-Y)/len(P-Y))\n"
      ],
      "metadata": {
        "colab": {
          "base_uri": "https://localhost:8080/"
        },
        "id": "rnIMSMn6Io-_",
        "outputId": "f0d18d17-0692-45ed-fa01-380a73fd6ef8"
      },
      "execution_count": null,
      "outputs": [
        {
          "output_type": "stream",
          "name": "stdout",
          "text": [
            "Le nombre des case non nulles : \n",
            "7\n",
            "Erreur d'apprentissage : \n",
            "0.04666666666666667\n",
            "Accuracy : \n",
            "0.9533333333333334\n"
          ]
        }
      ]
    },
    {
      "cell_type": "code",
      "source": [
        "print(\"Accuracy : \")\n",
        "nb.score(irisData.data,irisData.target)"
      ],
      "metadata": {
        "colab": {
          "base_uri": "https://localhost:8080/"
        },
        "id": "JWIIJ2QVNrWW",
        "outputId": "ed841fb8-bec6-40c4-834b-408b5b28a5ad"
      },
      "execution_count": null,
      "outputs": [
        {
          "output_type": "stream",
          "name": "stdout",
          "text": [
            "Accuracy : \n"
          ]
        },
        {
          "output_type": "execute_result",
          "data": {
            "text/plain": [
              "0.9533333333333334"
            ]
          },
          "metadata": {},
          "execution_count": 14
        }
      ]
    },
    {
      "cell_type": "code",
      "source": [
        "import random\n",
        "def split(data,testProportion):\n",
        "  leng=len(data.target)\n",
        "  indexes= list(range(leng))\n",
        "  random.shuffle(indexes)\n",
        "  dataS1=[]\n",
        "  targetS1=[]\n",
        "  dataS2=[]\n",
        "  targetS2=[]\n",
        "  for i in range(int(leng*(1-testProportion))):\n",
        "    dataS1.append(data.data[indexes[i]])\n",
        "    targetS1.append(data.target[indexes[i]])\n",
        "  for i in range(int(leng*(1-testProportion)),leng,1):\n",
        "    dataS2.append(data.data[indexes[i]])\n",
        "    targetS2.append(data.target[indexes[i]])\n",
        "  return dataS1,targetS1,dataS2,targetS2\n",
        "\n",
        "  "
      ],
      "metadata": {
        "id": "yKdzMpj1Px-R"
      },
      "execution_count": null,
      "outputs": []
    },
    {
      "cell_type": "code",
      "source": [
        "xTrain,yTrain,xTest,yTest=split(irisData,1/3)\n",
        "print(len(xTrain))\n",
        "print(len(yTrain))\n",
        "print(len(xTest))\n",
        "print(len(yTest))\n"
      ],
      "metadata": {
        "colab": {
          "base_uri": "https://localhost:8080/"
        },
        "id": "GZ1nkH4nPAJL",
        "outputId": "3f6edf5a-96b2-4b00-eb71-fdf9194b954a"
      },
      "execution_count": null,
      "outputs": [
        {
          "output_type": "stream",
          "name": "stdout",
          "text": [
            "100\n",
            "100\n",
            "50\n",
            "50\n"
          ]
        }
      ]
    },
    {
      "cell_type": "code",
      "source": [
        "def test(data,clf,testProportion):\n",
        "  xTrain,yTrain,xTest,yTest=split(irisData,testProportion)\n",
        "  clf.fit(xTrain,yTrain)\n",
        "  pred=clf.predict(xTest)\n",
        "  # print(\"prediction of the test sample :\")\n",
        "  # print(pred)\n",
        "  # print(\"Accuracy : \",clf.score(xTest,yTest))\n",
        "  return clf.score(xTest,yTest)\n",
        "\n",
        "  "
      ],
      "metadata": {
        "id": "PPY6G4CeiR68"
      },
      "execution_count": null,
      "outputs": []
    },
    {
      "cell_type": "code",
      "source": [
        "test(irisData,naive_bayes.MultinomialNB(fit_prior=True),1/3)"
      ],
      "metadata": {
        "colab": {
          "base_uri": "https://localhost:8080/"
        },
        "id": "oQQTzwWYijrg",
        "outputId": "493f4fa1-a043-49a2-8c22-d2775c9f8b44"
      },
      "execution_count": null,
      "outputs": [
        {
          "output_type": "execute_result",
          "data": {
            "text/plain": [
              "0.92"
            ]
          },
          "metadata": {},
          "execution_count": 18
        }
      ]
    },
    {
      "cell_type": "code",
      "source": [
        "def moyenneTest(data,clf,nb,testProportion):\n",
        "  sum=0\n",
        "  for i in range(nb):\n",
        "    sum=sum+test(irisData,clf,testProportion)\n",
        "  return sum/nb\n",
        "\n"
      ],
      "metadata": {
        "id": "-AQbx7t0l9Na"
      },
      "execution_count": null,
      "outputs": []
    },
    {
      "cell_type": "code",
      "source": [
        "print(\"Moyenne Accuracy avec nb=1 : \",moyenneTest(irisData,naive_bayes.MultinomialNB(fit_prior=True),1,1/3))\n",
        "print(\"Moyenne Accuracy avec nb=10 : \",moyenneTest(irisData,naive_bayes.MultinomialNB(fit_prior=True),10,1/3))\n",
        "print(\"Moyenne Accuracy avec nb=50 : \",moyenneTest(irisData,naive_bayes.MultinomialNB(fit_prior=True),50,1/3))\n",
        "print(\"Moyenne Accuracy avec nb=100 : \",moyenneTest(irisData,naive_bayes.MultinomialNB(fit_prior=True),100,1/3))\n",
        "print(\"Moyenne Accuracy avec nb=200 : \",moyenneTest(irisData,naive_bayes.MultinomialNB(fit_prior=True),200,1/3))\n",
        "print(\"Moyenne Accuracy avec nb=500 : \",moyenneTest(irisData,naive_bayes.MultinomialNB(fit_prior=True),500,1/3))\n",
        "print(\"Moyenne Accuracy avec nb=1000 : \",moyenneTest(irisData,naive_bayes.MultinomialNB(fit_prior=True),1000,1/3))\n"
      ],
      "metadata": {
        "colab": {
          "base_uri": "https://localhost:8080/"
        },
        "id": "ThwPPJpAmgSB",
        "outputId": "d3717748-a063-43c2-a9f4-0741bf56d534"
      },
      "execution_count": null,
      "outputs": [
        {
          "output_type": "stream",
          "name": "stdout",
          "text": [
            "Moyenne Accuracy avec nb=1 :  0.6\n",
            "Moyenne Accuracy avec nb=10 :  0.808\n",
            "Moyenne Accuracy avec nb=50 :  0.7852000000000001\n",
            "Moyenne Accuracy avec nb=100 :  0.7772000000000002\n",
            "Moyenne Accuracy avec nb=200 :  0.7734999999999999\n",
            "Moyenne Accuracy avec nb=500 :  0.7921999999999991\n",
            "Moyenne Accuracy avec nb=1000 :  0.7923400000000022\n"
          ]
        }
      ]
    },
    {
      "cell_type": "code",
      "source": [
        "def stability(data,clf,nb,testProportion,acc):\n",
        "  sum=0\n",
        "  moys=[]\n",
        "  for i in range(acc):\n",
        "    x=moyenneTest(data,clf,nb,testProportion)\n",
        "    sum=sum+x\n",
        "    moys.append(x)\n",
        "  moy=sum/acc\n",
        "  dist=0\n",
        "  for m in moys:\n",
        "    dist=dist+(abs(moy-m))\n",
        "  return dist/acc "
      ],
      "metadata": {
        "id": "D09LpF6No8iX"
      },
      "execution_count": null,
      "outputs": []
    },
    {
      "cell_type": "code",
      "source": [
        "print(\"Moyenne Accuracy avec nb=10 répétée 20 fois : \",stability(irisData,naive_bayes.MultinomialNB(fit_prior=True),10,1/3,20))\n",
        "print(\"Moyenne Accuracy avec nb=50 répétée 20 fois : \",stability(irisData,naive_bayes.MultinomialNB(fit_prior=True),50,1/3,20))\n",
        "print(\"Moyenne Accuracy avec nb=100 répétée 20 fois : \",stability(irisData,naive_bayes.MultinomialNB(fit_prior=True),100,1/3,20))\n",
        "print(\"Moyenne Accuracy avec nb=200 répétée 20 fois : \",stability(irisData,naive_bayes.MultinomialNB(fit_prior=True),200,1/3,20))\n",
        "print(\"Moyenne Accuracy avec nb=500 répétée 20 fois : \",stability(irisData,naive_bayes.MultinomialNB(fit_prior=True),500,1/3,20))\n",
        "print(\"Moyenne Accuracy avec nb=1000 répétée 20 fois : \",stability(irisData,naive_bayes.MultinomialNB(fit_prior=True),1000,1/3,20))"
      ],
      "metadata": {
        "colab": {
          "base_uri": "https://localhost:8080/"
        },
        "id": "pSnq3bOTpThi",
        "outputId": "3397b743-775a-4c9c-a9f5-b5be28b89998"
      },
      "execution_count": null,
      "outputs": [
        {
          "output_type": "stream",
          "name": "stdout",
          "text": [
            "Moyenne Accuracy avec nb=10 répétée 20 fois :  0.03389999999999997\n",
            "Moyenne Accuracy avec nb=50 répétée 20 fois :  0.0142360000000001\n",
            "Moyenne Accuracy avec nb=100 répétée 20 fois :  0.009860000000000025\n",
            "Moyenne Accuracy avec nb=200 répétée 20 fois :  0.007372000000000117\n",
            "Moyenne Accuracy avec nb=500 répétée 20 fois :  0.005196799999999941\n",
            "Moyenne Accuracy avec nb=1000 répétée 20 fois :  0.0022555000000000435\n"
          ]
        }
      ]
    },
    {
      "cell_type": "code",
      "source": [
        "# l'accuracy est plus stable avec un nb plus élévé (=1000)"
      ],
      "metadata": {
        "id": "t40DDoWqs-TO"
      },
      "execution_count": null,
      "outputs": []
    },
    {
      "cell_type": "code",
      "source": [
        "# dans le cas d'un échantillon de test qui ne prend que le 10ème de l'échantillon initial la stabilité va etre plus élévée car le modele est entrainé sur plus de data"
      ],
      "metadata": {
        "id": "KI1sOJvBt0Pi"
      },
      "execution_count": null,
      "outputs": []
    },
    {
      "cell_type": "code",
      "source": [
        "print(\"Test sur 1/10 de dataset :\")\n",
        "print(\"Moyenne Accuracy avec nb=1 : \",moyenneTest(irisData,naive_bayes.MultinomialNB(fit_prior=True),1,1/10))\n",
        "print(\"Moyenne Accuracy avec nb=10 : \",moyenneTest(irisData,naive_bayes.MultinomialNB(fit_prior=True),10,1/10))\n",
        "print(\"Moyenne Accuracy avec nb=50 : \",moyenneTest(irisData,naive_bayes.MultinomialNB(fit_prior=True),50,1/10))\n",
        "print(\"Moyenne Accuracy avec nb=100 : \",moyenneTest(irisData,naive_bayes.MultinomialNB(fit_prior=True),100,1/10))\n",
        "print(\"Moyenne Accuracy avec nb=200 : \",moyenneTest(irisData,naive_bayes.MultinomialNB(fit_prior=True),200,1/10))\n",
        "print(\"Moyenne Accuracy avec nb=500 : \",moyenneTest(irisData,naive_bayes.MultinomialNB(fit_prior=True),500,1/10))\n",
        "print(\"Moyenne Accuracy avec nb=1000 : \",moyenneTest(irisData,naive_bayes.MultinomialNB(fit_prior=True),1000,1/10))"
      ],
      "metadata": {
        "id": "10JPdm1qvZZV",
        "colab": {
          "base_uri": "https://localhost:8080/"
        },
        "outputId": "22ae580a-bdf6-4046-fb13-6f6d762f4721"
      },
      "execution_count": null,
      "outputs": [
        {
          "output_type": "stream",
          "name": "stdout",
          "text": [
            "Test sur 1/10 de dataset :\n",
            "Moyenne Accuracy avec nb=1 :  1.0\n",
            "Moyenne Accuracy avec nb=10 :  0.8800000000000001\n",
            "Moyenne Accuracy avec nb=50 :  0.8746666666666666\n",
            "Moyenne Accuracy avec nb=100 :  0.8933333333333329\n",
            "Moyenne Accuracy avec nb=200 :  0.8696666666666674\n",
            "Moyenne Accuracy avec nb=500 :  0.8780000000000029\n",
            "Moyenne Accuracy avec nb=1000 :  0.8782666666666616\n"
          ]
        }
      ]
    },
    {
      "cell_type": "code",
      "source": [
        "print(\"Moyenne Accuracy avec nb=10 répétée 20 fois : \",stability(irisData,naive_bayes.MultinomialNB(fit_prior=True),10,1/10,20))\n",
        "print(\"Moyenne Accuracy avec nb=50 répétée 20 fois : \",stability(irisData,naive_bayes.MultinomialNB(fit_prior=True),50,1/10,20))\n",
        "print(\"Moyenne Accuracy avec nb=100 répétée 20 fois : \",stability(irisData,naive_bayes.MultinomialNB(fit_prior=True),100,1/10,20))\n",
        "print(\"Moyenne Accuracy avec nb=200 répétée 20 fois : \",stability(irisData,naive_bayes.MultinomialNB(fit_prior=True),200,1/10,20))\n",
        "print(\"Moyenne Accuracy avec nb=500 répétée 20 fois : \",stability(irisData,naive_bayes.MultinomialNB(fit_prior=True),500,1/10,20))\n",
        "print(\"Moyenne Accuracy avec nb=1000 répétée 20 fois : \",stability(irisData,naive_bayes.MultinomialNB(fit_prior=True),1000,1/10,20))"
      ],
      "metadata": {
        "colab": {
          "base_uri": "https://localhost:8080/"
        },
        "id": "Kbd8zoiTxSyI",
        "outputId": "e4ede38c-31af-4e43-e343-7a1d3ca95121"
      },
      "execution_count": null,
      "outputs": [
        {
          "output_type": "stream",
          "name": "stdout",
          "text": [
            "Moyenne Accuracy avec nb=10 répétée 20 fois :  0.03879999999999996\n",
            "Moyenne Accuracy avec nb=50 répétée 20 fois :  0.013466666666666622\n",
            "Moyenne Accuracy avec nb=100 répétée 20 fois :  0.01107333333333338\n",
            "Moyenne Accuracy avec nb=200 répétée 20 fois :  0.008273333333333393\n",
            "Moyenne Accuracy avec nb=500 répétée 20 fois :  0.005799999999999983\n",
            "Moyenne Accuracy avec nb=1000 répétée 20 fois :  0.004243333333333188\n"
          ]
        }
      ]
    },
    {
      "cell_type": "code",
      "source": [
        "# l'accuracy est plus faible que la premiere car la premiere est entainé sur la totalité de datasat ===> OVERFITTING\n",
        "# on n'obtient pas la meme accuracy toujours car la partie train de dataset est selectionner aléatoirement : des classe peuvent etre presente plus que des autres"
      ],
      "metadata": {
        "id": "uaTedsbYkdBj"
      },
      "execution_count": null,
      "outputs": []
    },
    {
      "cell_type": "code",
      "source": [
        "import numpy as np\n",
        "from sklearn.model_selection import train_test_split\n",
        "\n",
        "np=naive_bayes.MultinomialNB(fit_prior=True)\n",
        "x_train, x_test, y_train, y_test = train_test_split(irisData.data,irisData.target, test_size=0.1, shuffle=True)\n",
        "# print(\"x_train\",x_train)\n",
        "# print(\"x_test\",x_test)\n",
        "# print(\"y_train\",y_train)\n",
        "# print(\"y_test\",y_test)\n",
        "score=nb.score(x_test,y_test)\n",
        "np.fit(x_train,y_train)\n",
        "print(\"score pour test size = 0.1 : \",score)\n",
        "print(\"erreur = \",1-score)\n",
        "\n",
        "x_train, x_test, y_train, y_test = train_test_split(irisData.data,irisData.target, test_size=0.33, shuffle=True)\n",
        "# print(\"x_train\",x_train)\n",
        "# print(\"x_test\",x_test)\n",
        "# print(\"y_train\",y_train)\n",
        "# print(\"y_test\",y_test)\n",
        "np.fit(x_train,y_train)\n",
        "score=nb.score(x_test,y_test)\n",
        "print(\"score pour test size = 0.3 : \",score)\n",
        "print(\"erreur = \",1-score)\n",
        "\n",
        "#l 'erreur est plus faile avec test  size plus petit  car le model est entrainé sur plus des instances"
      ],
      "metadata": {
        "colab": {
          "base_uri": "https://localhost:8080/"
        },
        "id": "p_jjdhKVp0ik",
        "outputId": "a0d91f7e-5bec-469e-843e-49d0756a9f3c"
      },
      "execution_count": null,
      "outputs": [
        {
          "output_type": "stream",
          "name": "stdout",
          "text": [
            "score pour test size = 0.1 :  0.9333333333333333\n",
            "erreur =  0.06666666666666665\n",
            "score pour test size = 0.3 :  0.96\n",
            "erreur =  0.040000000000000036\n"
          ]
        }
      ]
    },
    {
      "cell_type": "code",
      "source": [
        "from sklearn.model_selection import KFold , cross_val_score \n",
        "from numpy import mean\n",
        "\n",
        "def cross_validation(folds):\n",
        "  cv = KFold(n_splits=folds, random_state=1, shuffle=True)\n",
        "  # create model\n",
        "  model = naive_bayes.MultinomialNB(fit_prior=True)\n",
        "  # evaluate model\n",
        "  scores = cross_val_score(model, irisData.data, irisData.target, scoring='accuracy', cv=cv, n_jobs=-1)\n",
        "  # report performance\n",
        "  print('Mean: ',mean(scores))\n"
      ],
      "metadata": {
        "id": "GlHyqS_BtsSR"
      },
      "execution_count": null,
      "outputs": []
    },
    {
      "cell_type": "code",
      "source": [
        "cross_validation(2)\n",
        "cross_validation(3)\n",
        "cross_validation(5)\n",
        "cross_validation(10)\n",
        "cross_validation(20)\n",
        "cross_validation(50)\n",
        "\n"
      ],
      "metadata": {
        "colab": {
          "base_uri": "https://localhost:8080/"
        },
        "id": "yt9k8SptwYIV",
        "outputId": "c3baae1b-ce7f-48ce-9394-fc0909ceecc9"
      },
      "execution_count": null,
      "outputs": [
        {
          "output_type": "stream",
          "name": "stdout",
          "text": [
            "Mean:  0.78\n",
            "Mean:  0.6200000000000001\n",
            "Mean:  0.72\n",
            "Mean:  0.8266666666666665\n",
            "Mean:  0.892857142857143\n",
            "Mean:  0.9133333333333331\n"
          ]
        }
      ]
    },
    {
      "cell_type": "code",
      "source": [
        "# decision tree"
      ],
      "metadata": {
        "id": "0DM350LPfnXl"
      },
      "execution_count": null,
      "outputs": []
    },
    {
      "cell_type": "code",
      "source": [
        "import numpy as np\n",
        "from sklearn.model_selection import train_test_split\n",
        "from sklearn import tree\n",
        "\n",
        "np=tree.DecisionTreeClassifier()\n",
        "x_train, x_test, y_train, y_test = train_test_split(irisData.data,irisData.target, test_size=0.1, shuffle=True)\n",
        "score=nb.score(x_test,y_test)\n",
        "np.fit(x_train,y_train)\n",
        "print(\"score pour test size = 0.1 : \",score)\n",
        "print(\"erreur = \",1-score)\n",
        "\n",
        "x_train, x_test, y_train, y_test = train_test_split(irisData.data,irisData.target, test_size=0.33, shuffle=True)\n",
        "np.fit(x_train,y_train)\n",
        "score=nb.score(x_test,y_test)\n",
        "print(\"score pour test size = 0.3 : \",score)\n",
        "print(\"erreur = \",1-score)\n",
        "\n",
        "x_train, x_test, y_train, y_test = train_test_split(irisData.data,irisData.target, test_size=0.1, shuffle=True)\n",
        "np.fit(x_train,y_train)\n",
        "score=nb.score(x_test,y_test)\n",
        "print(\"score pour test size = 0.2 : \",score)\n",
        "print(\"erreur = \",1-score)"
      ],
      "metadata": {
        "colab": {
          "base_uri": "https://localhost:8080/"
        },
        "id": "DTjAW0WWgNEj",
        "outputId": "31880988-0566-401b-f067-1af192a075fa"
      },
      "execution_count": null,
      "outputs": [
        {
          "output_type": "stream",
          "name": "stdout",
          "text": [
            "score pour test size = 0.1 :  1.0\n",
            "erreur =  0.0\n",
            "score pour test size = 0.3 :  0.94\n",
            "erreur =  0.06000000000000005\n",
            "score pour test size = 0.2 :  0.9333333333333333\n",
            "erreur =  0.06666666666666665\n"
          ]
        }
      ]
    },
    {
      "cell_type": "code",
      "source": [
        "print(\"Moyenne Accuracy avec nb=1 : \",moyenneTest(irisData,tree.DecisionTreeClassifier(),1,1/3))\n",
        "print(\"Moyenne Accuracy avec nb=10 : \",moyenneTest(irisData,tree.DecisionTreeClassifier(),10,1/3))\n",
        "print(\"Moyenne Accuracy avec nb=50 : \",moyenneTest(irisData,tree.DecisionTreeClassifier(),50,1/3))\n",
        "print(\"Moyenne Accuracy avec nb=100 : \",moyenneTest(irisData,tree.DecisionTreeClassifier(),100,1/3))\n",
        "print(\"Moyenne Accuracy avec nb=200 : \",moyenneTest(irisData,tree.DecisionTreeClassifier(),200,1/3))\n",
        "print(\"Moyenne Accuracy avec nb=500 : \",moyenneTest(irisData,tree.DecisionTreeClassifier(),500,1/3))\n",
        "print(\"Moyenne Accuracy avec nb=1000 : \",moyenneTest(irisData,tree.DecisionTreeClassifier(),1000,1/3))\n",
        "\n",
        "print(\"Moyenne Accuracy avec nb=10 répétée 20 fois : \",stability(irisData,tree.DecisionTreeClassifier(),10,1/3,20))\n",
        "print(\"Moyenne Accuracy avec nb=50 répétée 20 fois : \",stability(irisData,tree.DecisionTreeClassifier(),50,1/3,20))\n",
        "print(\"Moyenne Accuracy avec nb=100 répétée 20 fois : \",stability(irisData,tree.DecisionTreeClassifier(),100,1/3,20))\n",
        "print(\"Moyenne Accuracy avec nb=200 répétée 20 fois : \",stability(irisData,tree.DecisionTreeClassifier(),200,1/3,20))\n",
        "print(\"Moyenne Accuracy avec nb=500 répétée 20 fois : \",stability(irisData,tree.DecisionTreeClassifier(),500,1/3,20))\n",
        "print(\"Moyenne Accuracy avec nb=1000 répétée 20 fois : \",stability(irisData,tree.DecisionTreeClassifier(),1000,1/3,20))\n",
        "\n",
        "\n",
        "print(\"Test sur 1/10 de dataset :\")\n",
        "print(\"Moyenne Accuracy avec nb=1 : \",moyenneTest(irisData,tree.DecisionTreeClassifier(),1,1/10))\n",
        "print(\"Moyenne Accuracy avec nb=10 : \",moyenneTest(irisData,tree.DecisionTreeClassifier(),10,1/10))\n",
        "print(\"Moyenne Accuracy avec nb=50 : \",moyenneTest(irisData,tree.DecisionTreeClassifier(),50,1/10))\n",
        "print(\"Moyenne Accuracy avec nb=100 : \",moyenneTest(irisData,tree.DecisionTreeClassifier(),100,1/10))\n",
        "print(\"Moyenne Accuracy avec nb=200 : \",moyenneTest(irisData,tree.DecisionTreeClassifier(),200,1/10))\n",
        "print(\"Moyenne Accuracy avec nb=500 : \",moyenneTest(irisData,tree.DecisionTreeClassifier(),500,1/10))\n",
        "print(\"Moyenne Accuracy avec nb=1000 : \",moyenneTest(irisData,tree.DecisionTreeClassifier(),1000,1/10))\n",
        "\n",
        "print(\"Moyenne Accuracy avec nb=10 répétée 20 fois : \",stability(irisData,tree.DecisionTreeClassifier(),10,1/10,20))\n",
        "print(\"Moyenne Accuracy avec nb=50 répétée 20 fois : \",stability(irisData,tree.DecisionTreeClassifier(),50,1/10,20))\n",
        "print(\"Moyenne Accuracy avec nb=100 répétée 20 fois : \",stability(irisData,tree.DecisionTreeClassifier(),100,1/10,20))\n",
        "print(\"Moyenne Accuracy avec nb=200 répétée 20 fois : \",stability(irisData,tree.DecisionTreeClassifier(),200,1/10,20))\n",
        "print(\"Moyenne Accuracy avec nb=500 répétée 20 fois : \",stability(irisData,tree.DecisionTreeClassifier(),500,1/10,20))\n",
        "print(\"Moyenne Accuracy avec nb=1000 répétée 20 fois : \",stability(irisData,tree.DecisionTreeClassifier(),1000,1/10,20))"
      ],
      "metadata": {
        "colab": {
          "base_uri": "https://localhost:8080/"
        },
        "id": "YYFFZ68ZuUF-",
        "outputId": "ffd8a782-8ad1-487f-90c7-d85e6130790c"
      },
      "execution_count": null,
      "outputs": [
        {
          "output_type": "stream",
          "name": "stdout",
          "text": [
            "Moyenne Accuracy avec nb=1 :  0.98\n",
            "Moyenne Accuracy avec nb=10 :  0.9559999999999998\n",
            "Moyenne Accuracy avec nb=50 :  0.9460000000000001\n",
            "Moyenne Accuracy avec nb=100 :  0.9479999999999994\n",
            "Moyenne Accuracy avec nb=200 :  0.9433999999999988\n",
            "Moyenne Accuracy avec nb=500 :  0.9449199999999984\n",
            "Moyenne Accuracy avec nb=1000 :  0.9456200000000075\n",
            "Moyenne Accuracy avec nb=10 répétée 20 fois :  0.004910000000000014\n",
            "Moyenne Accuracy avec nb=50 répétée 20 fois :  0.0037799999999999835\n",
            "Moyenne Accuracy avec nb=100 répétée 20 fois :  0.0020400000000000027\n",
            "Moyenne Accuracy avec nb=200 répétée 20 fois :  0.0012589999999999546\n",
            "Moyenne Accuracy avec nb=500 répétée 20 fois :  0.0012103999999999893\n",
            "Moyenne Accuracy avec nb=1000 répétée 20 fois :  0.0007699000000002066\n",
            "Test sur 1/10 de dataset :\n",
            "Moyenne Accuracy avec nb=1 :  0.8666666666666667\n",
            "Moyenne Accuracy avec nb=10 :  0.9333333333333333\n",
            "Moyenne Accuracy avec nb=50 :  0.9466666666666663\n",
            "Moyenne Accuracy avec nb=100 :  0.944\n",
            "Moyenne Accuracy avec nb=200 :  0.9490000000000007\n",
            "Moyenne Accuracy avec nb=500 :  0.9466666666666688\n",
            "Moyenne Accuracy avec nb=1000 :  0.9469333333333245\n",
            "Moyenne Accuracy avec nb=10 répétée 20 fois :  0.010000000000000054\n",
            "Moyenne Accuracy avec nb=50 répétée 20 fois :  0.008293333333333274\n",
            "Moyenne Accuracy avec nb=100 répétée 20 fois :  0.006026666666666697\n",
            "Moyenne Accuracy avec nb=200 répétée 20 fois :  0.0028516666666666634\n",
            "Moyenne Accuracy avec nb=500 répétée 20 fois :  0.00190666666666659\n",
            "Moyenne Accuracy avec nb=1000 répétée 20 fois :  0.0014106666666666933\n"
          ]
        }
      ]
    },
    {
      "cell_type": "code",
      "source": [
        "# les resultat obtenues par decision tree sont plus efficaces car il met en valeur les features qui ont un gain d'information plus important"
      ],
      "metadata": {
        "id": "A8ZJ_2TqzrWf"
      },
      "execution_count": null,
      "outputs": []
    }
  ]
}